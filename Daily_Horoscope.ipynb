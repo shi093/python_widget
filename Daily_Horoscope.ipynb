{
  "nbformat": 4,
  "nbformat_minor": 0,
  "metadata": {
    "colab": {
      "name": "Daily_Horoscope.ipynb",
      "provenance": [],
      "collapsed_sections": [],
      "mount_file_id": "1hPy0Q3PNzrvmFFSjCf-WIdaBghUib1tl",
      "authorship_tag": "ABX9TyNF20POiQ1kuG85vKgHCNJ9",
      "include_colab_link": true
    },
    "kernelspec": {
      "name": "python3",
      "display_name": "Python 3"
    }
  },
  "cells": [
    {
      "cell_type": "markdown",
      "metadata": {
        "id": "view-in-github",
        "colab_type": "text"
      },
      "source": [
        "<a href=\"https://colab.research.google.com/github/shi093/python_widget/blob/main/Daily_Horoscope.ipynb\" target=\"_parent\"><img src=\"https://colab.research.google.com/assets/colab-badge.svg\" alt=\"Open In Colab\"/></a>"
      ]
    },
    {
      "cell_type": "markdown",
      "metadata": {
        "id": "8ASJ4WK0juSw"
      },
      "source": [
        "# Read your daily horoscope in Python!\n",
        "\n",
        "This is a tool for reading your daily horoscope. Run each code block in sequence and you will be able to choose your star sign by clicking the button below the image of your horoscope sign (or star sign). The results include your mood, lucky number, lucky time, lucky color, compatibility with other signs, and the description of your sign for yesterday, today and tomorrow."
      ]
    },
    {
      "cell_type": "markdown",
      "metadata": {
        "id": "s-5xgDwAkokf"
      },
      "source": [
        "Step1: install PyAztro package\n",
        "\n",
        "PyAztro is a Python package for fun. It provides your daily horoscope read which is updated everyday at midnight GMT (Greenwich Mean TIme). "
      ]
    },
    {
      "cell_type": "code",
      "metadata": {
        "id": "47M7GNKqu5p-"
      },
      "source": [
        "!pip install pyaztro"
      ],
      "execution_count": null,
      "outputs": []
    },
    {
      "cell_type": "markdown",
      "metadata": {
        "id": "hTm_75FxqJ0-"
      },
      "source": [
        "Step 2: Grab horoscope sign images from the web."
      ]
    },
    {
      "cell_type": "code",
      "metadata": {
        "id": "Mwed_bV3ZBOC"
      },
      "source": [
        "from PIL import Image\n",
        "import requests\n",
        "\n",
        "url = \"https://www.horoscope.com/images-US/signs/profile-aries.png\"\n",
        "im_aries = Image.open(requests.get(url, stream=True).raw)\n",
        "url = \"https://www.horoscope.com/images-US/signs/profile-taurus.png\"\n",
        "im_taurus = Image.open(requests.get(url, stream=True).raw)\n",
        "url = \"https://www.horoscope.com/images-US/signs/profile-gemini.png\"\n",
        "im_gemini = Image.open(requests.get(url, stream=True).raw)\n",
        "url = \"https://www.horoscope.com/images-US/signs/profile-cancer.png\"\n",
        "im_cancer = Image.open(requests.get(url, stream=True).raw)\n",
        "url = \"https://www.horoscope.com/images-US/signs/profile-leo.png\"\n",
        "im_leo = Image.open(requests.get(url, stream=True).raw)\n",
        "url = \"https://www.horoscope.com/images-US/signs/profile-virgo.png\"\n",
        "im_virgo = Image.open(requests.get(url, stream=True).raw)\n",
        "url = \"https://www.horoscope.com/images-US/signs/profile-libra.png\"\n",
        "im_libra = Image.open(requests.get(url, stream=True).raw)\n",
        "url = \"https://www.horoscope.com/images-US/signs/profile-scorpio.png\"\n",
        "im_scorpio = Image.open(requests.get(url, stream=True).raw)\n",
        "url = \"https://www.horoscope.com/images-US/signs/profile-sagittarius.png\"\n",
        "im_sagittarius = Image.open(requests.get(url, stream=True).raw)\n",
        "url = \"https://www.horoscope.com/images-US/signs/profile-capricorn.png\"\n",
        "im_capricorn = Image.open(requests.get(url, stream=True).raw)\n",
        "url = \"https://www.horoscope.com/images-US/signs/profile-aquarius.png\"\n",
        "im_aquarius = Image.open(requests.get(url, stream=True).raw)\n",
        "url = \"https://www.horoscope.com/images-US/signs/profile-pisces.png\"\n",
        "im_pisces = Image.open(requests.get(url, stream=True).raw)"
      ],
      "execution_count": null,
      "outputs": []
    },
    {
      "cell_type": "markdown",
      "metadata": {
        "id": "6XL_BCbcqXDr"
      },
      "source": [
        "Step 3: Create a variable to hold the horoscope images and the corresponding date ranges."
      ]
    },
    {
      "cell_type": "code",
      "metadata": {
        "id": "oWMYGvoNr8yB"
      },
      "source": [
        "image_name = []\n",
        "image_name.append({'name':'Aries', 'image':im_aries, 'date': 'Mar 21-Apr 20'})\n",
        "image_name.append({'name':'Taurus', 'image':im_taurus, 'date': 'Apr 21-May 20'})\n",
        "image_name.append({'name':'Gemini', 'image':im_gemini, 'date': 'May 21-Jun 21'})\n",
        "image_name.append({'name':'Cancer', 'image':im_cancer, 'date': 'Jun 22-Jul 22'})\n",
        "image_name.append({'name':'Leo', 'image':im_leo, 'date': 'Jul 23-Aug 22'})\n",
        "image_name.append({'name':'Virgo', 'image':im_virgo, 'date': 'Aug 23-Sep 22'})\n",
        "image_name.append({'name':'Libra', 'image':im_libra, 'date': 'Sep 23-Oct 22'})\n",
        "image_name.append({'name':'Scorpio', 'image':im_scorpio, 'date': 'Oct 23-Nov 22'})\n",
        "image_name.append({'name':'Sagittarius', 'image':im_sagittarius, 'date': 'Nov 23-Dec 21'})\n",
        "image_name.append({'name':'Capricorn', 'image':im_capricorn, 'date': 'Dec 22-Jan 19'})\n",
        "image_name.append({'name':'Aquarius', 'image':im_aquarius, 'date': 'Jan 20-Feb 18'})\n",
        "image_name.append({'name':'Pisces', 'image':im_pisces, 'date': 'Feb 19-Mar 20'})"
      ],
      "execution_count": null,
      "outputs": []
    },
    {
      "cell_type": "markdown",
      "metadata": {
        "id": "Gn0Mb6SrqzS6"
      },
      "source": [
        "Step 4: Generate the user interface of the tool."
      ]
    },
    {
      "cell_type": "code",
      "metadata": {
        "id": "hpgo13my_BvR"
      },
      "source": [
        "import pyaztro\n",
        "from google.colab import widgets\n",
        "import ipywidgets\n",
        "from IPython.display import display, clear_output\n",
        "import pandas as pd\n",
        "\n",
        "pd.set_option(\"max_colwidth\", None)\n",
        "\n",
        "output = ipywidgets.widgets.Output()\n",
        "\n",
        "days = ['yesterday', 'today', 'tomorrow']\n",
        "data_type = ['Date', 'Mood', 'Compatibility', 'Lucky number', 'Lucky time', 'Lucky color', 'Description']\n",
        "df = pd.DataFrame(data_type,columns=[''])\n",
        "\n",
        "def on_button_clicked(b):\n",
        "  # Display the message within the output widget.\n",
        "  with output:\n",
        "    clear_output()\n",
        "    sign_name = str(b.description)\n",
        "    for i in range(0,3):\n",
        "      sign_info = pyaztro.Aztro(sign=sign_name, day=days[i])\n",
        "      df[days[i]] =[sign_info.current_date, sign_info.mood, sign_info.compatibility, sign_info.lucky_number, sign_info.lucky_time, sign_info.color, sign_info.description]\n",
        "\n",
        "    print('\\n', 'Sign: ', str(b.description), '\\n')\n",
        "    display(df)\n",
        "\n",
        "button_list = []\n",
        "for i in range(0,12):\n",
        "  button = ipywidgets.widgets.Button(description=image_name[i]['name'])\n",
        "  button.on_click(on_button_clicked)\n",
        "  button_list.append(button)    \n",
        "\n",
        "grid = widgets.Grid(1, 6, header_row=True, header_column=True) \n",
        "newsize = (100, 100)\n",
        "for (row, col) in grid:\n",
        "  index = row*6+col\n",
        "  print(\"\\n\")\n",
        "  display(image_name[index]['image'].resize(newsize))\n",
        "  print(\"\\n\"+image_name[index]['date']+\"\\n\")\n",
        "  display(button_list[index])\n",
        "for (row, col) in grid:\n",
        "  index = row*6+col\n",
        "  print(\"\\n\")\n",
        "  display(image_name[index+6]['image'].resize(newsize))\n",
        "  print(\"\\n\"+image_name[index+6]['date']+\"\\n\")\n",
        "  display(button_list[index+6])\n",
        "print('\\nSelect your Star Sign by clicking the button\\n')\n",
        "display(output)"
      ],
      "execution_count": null,
      "outputs": []
    }
  ]
}