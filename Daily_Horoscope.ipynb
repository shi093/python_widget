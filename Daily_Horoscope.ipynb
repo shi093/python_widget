{
  "nbformat": 4,
  "nbformat_minor": 0,
  "metadata": {
    "colab": {
      "name": "Daily_Horoscope.ipynb",
      "provenance": [],
      "collapsed_sections": [],
      "mount_file_id": "1hPy0Q3PNzrvmFFSjCf-WIdaBghUib1tl",
      "authorship_tag": "ABX9TyNF20POiQ1kuG85vKgHCNJ9",
      "include_colab_link": true
    },
    "kernelspec": {
      "name": "python3",
      "display_name": "Python 3"
    },
    "widgets": {
      "application/vnd.jupyter.widget-state+json": {
        "65687733376f476cbabe055ce2600ebb": {
          "model_module": "@jupyter-widgets/controls",
          "model_name": "ButtonModel",
          "state": {
            "_view_name": "ButtonView",
            "style": "IPY_MODEL_4c455b2c3b21499b845b5b5f51e8f181",
            "_dom_classes": [],
            "description": "Aries",
            "_model_name": "ButtonModel",
            "button_style": "",
            "_view_module": "@jupyter-widgets/controls",
            "_model_module_version": "1.5.0",
            "tooltip": "",
            "_view_count": null,
            "disabled": false,
            "_view_module_version": "1.5.0",
            "layout": "IPY_MODEL_e4eaf182ce0f41dc89996f08908cc526",
            "_model_module": "@jupyter-widgets/controls",
            "icon": ""
          }
        },
        "4c455b2c3b21499b845b5b5f51e8f181": {
          "model_module": "@jupyter-widgets/controls",
          "model_name": "ButtonStyleModel",
          "state": {
            "_view_name": "StyleView",
            "_model_name": "ButtonStyleModel",
            "_view_module": "@jupyter-widgets/base",
            "_model_module_version": "1.5.0",
            "_view_count": null,
            "button_color": null,
            "font_weight": "",
            "_view_module_version": "1.2.0",
            "_model_module": "@jupyter-widgets/controls"
          }
        },
        "e4eaf182ce0f41dc89996f08908cc526": {
          "model_module": "@jupyter-widgets/base",
          "model_name": "LayoutModel",
          "state": {
            "_view_name": "LayoutView",
            "grid_template_rows": null,
            "right": null,
            "justify_content": null,
            "_view_module": "@jupyter-widgets/base",
            "overflow": null,
            "_model_module_version": "1.2.0",
            "_view_count": null,
            "flex_flow": null,
            "width": null,
            "min_width": null,
            "border": null,
            "align_items": null,
            "bottom": null,
            "_model_module": "@jupyter-widgets/base",
            "top": null,
            "grid_column": null,
            "overflow_y": null,
            "overflow_x": null,
            "grid_auto_flow": null,
            "grid_area": null,
            "grid_template_columns": null,
            "flex": null,
            "_model_name": "LayoutModel",
            "justify_items": null,
            "grid_row": null,
            "max_height": null,
            "align_content": null,
            "visibility": null,
            "align_self": null,
            "height": null,
            "min_height": null,
            "padding": null,
            "grid_auto_rows": null,
            "grid_gap": null,
            "max_width": null,
            "order": null,
            "_view_module_version": "1.2.0",
            "grid_template_areas": null,
            "object_position": null,
            "object_fit": null,
            "grid_auto_columns": null,
            "margin": null,
            "display": null,
            "left": null
          }
        },
        "b0b29065f4dd4a3b86723abdaf81ab88": {
          "model_module": "@jupyter-widgets/controls",
          "model_name": "ButtonModel",
          "state": {
            "_view_name": "ButtonView",
            "style": "IPY_MODEL_a007f1b119864390b7b39f23ccf147dc",
            "_dom_classes": [],
            "description": "Taurus",
            "_model_name": "ButtonModel",
            "button_style": "",
            "_view_module": "@jupyter-widgets/controls",
            "_model_module_version": "1.5.0",
            "tooltip": "",
            "_view_count": null,
            "disabled": false,
            "_view_module_version": "1.5.0",
            "layout": "IPY_MODEL_a1f100a430804ed98898f83d3bc0f709",
            "_model_module": "@jupyter-widgets/controls",
            "icon": ""
          }
        },
        "a007f1b119864390b7b39f23ccf147dc": {
          "model_module": "@jupyter-widgets/controls",
          "model_name": "ButtonStyleModel",
          "state": {
            "_view_name": "StyleView",
            "_model_name": "ButtonStyleModel",
            "_view_module": "@jupyter-widgets/base",
            "_model_module_version": "1.5.0",
            "_view_count": null,
            "button_color": null,
            "font_weight": "",
            "_view_module_version": "1.2.0",
            "_model_module": "@jupyter-widgets/controls"
          }
        },
        "a1f100a430804ed98898f83d3bc0f709": {
          "model_module": "@jupyter-widgets/base",
          "model_name": "LayoutModel",
          "state": {
            "_view_name": "LayoutView",
            "grid_template_rows": null,
            "right": null,
            "justify_content": null,
            "_view_module": "@jupyter-widgets/base",
            "overflow": null,
            "_model_module_version": "1.2.0",
            "_view_count": null,
            "flex_flow": null,
            "width": null,
            "min_width": null,
            "border": null,
            "align_items": null,
            "bottom": null,
            "_model_module": "@jupyter-widgets/base",
            "top": null,
            "grid_column": null,
            "overflow_y": null,
            "overflow_x": null,
            "grid_auto_flow": null,
            "grid_area": null,
            "grid_template_columns": null,
            "flex": null,
            "_model_name": "LayoutModel",
            "justify_items": null,
            "grid_row": null,
            "max_height": null,
            "align_content": null,
            "visibility": null,
            "align_self": null,
            "height": null,
            "min_height": null,
            "padding": null,
            "grid_auto_rows": null,
            "grid_gap": null,
            "max_width": null,
            "order": null,
            "_view_module_version": "1.2.0",
            "grid_template_areas": null,
            "object_position": null,
            "object_fit": null,
            "grid_auto_columns": null,
            "margin": null,
            "display": null,
            "left": null
          }
        },
        "479fd77c60514e68b05231805b062018": {
          "model_module": "@jupyter-widgets/controls",
          "model_name": "ButtonModel",
          "state": {
            "_view_name": "ButtonView",
            "style": "IPY_MODEL_e09d1e4b6a3e48feb470f2daedbe9e25",
            "_dom_classes": [],
            "description": "Gemini",
            "_model_name": "ButtonModel",
            "button_style": "",
            "_view_module": "@jupyter-widgets/controls",
            "_model_module_version": "1.5.0",
            "tooltip": "",
            "_view_count": null,
            "disabled": false,
            "_view_module_version": "1.5.0",
            "layout": "IPY_MODEL_9d6c64cd3b4942ae9945f12c3ac68430",
            "_model_module": "@jupyter-widgets/controls",
            "icon": ""
          }
        },
        "e09d1e4b6a3e48feb470f2daedbe9e25": {
          "model_module": "@jupyter-widgets/controls",
          "model_name": "ButtonStyleModel",
          "state": {
            "_view_name": "StyleView",
            "_model_name": "ButtonStyleModel",
            "_view_module": "@jupyter-widgets/base",
            "_model_module_version": "1.5.0",
            "_view_count": null,
            "button_color": null,
            "font_weight": "",
            "_view_module_version": "1.2.0",
            "_model_module": "@jupyter-widgets/controls"
          }
        },
        "9d6c64cd3b4942ae9945f12c3ac68430": {
          "model_module": "@jupyter-widgets/base",
          "model_name": "LayoutModel",
          "state": {
            "_view_name": "LayoutView",
            "grid_template_rows": null,
            "right": null,
            "justify_content": null,
            "_view_module": "@jupyter-widgets/base",
            "overflow": null,
            "_model_module_version": "1.2.0",
            "_view_count": null,
            "flex_flow": null,
            "width": null,
            "min_width": null,
            "border": null,
            "align_items": null,
            "bottom": null,
            "_model_module": "@jupyter-widgets/base",
            "top": null,
            "grid_column": null,
            "overflow_y": null,
            "overflow_x": null,
            "grid_auto_flow": null,
            "grid_area": null,
            "grid_template_columns": null,
            "flex": null,
            "_model_name": "LayoutModel",
            "justify_items": null,
            "grid_row": null,
            "max_height": null,
            "align_content": null,
            "visibility": null,
            "align_self": null,
            "height": null,
            "min_height": null,
            "padding": null,
            "grid_auto_rows": null,
            "grid_gap": null,
            "max_width": null,
            "order": null,
            "_view_module_version": "1.2.0",
            "grid_template_areas": null,
            "object_position": null,
            "object_fit": null,
            "grid_auto_columns": null,
            "margin": null,
            "display": null,
            "left": null
          }
        },
        "6c141802decf4622807c3615f41e4ec6": {
          "model_module": "@jupyter-widgets/controls",
          "model_name": "ButtonModel",
          "state": {
            "_view_name": "ButtonView",
            "style": "IPY_MODEL_5929b0ddaba647f98cb71c89a71f5a20",
            "_dom_classes": [],
            "description": "Cancer",
            "_model_name": "ButtonModel",
            "button_style": "",
            "_view_module": "@jupyter-widgets/controls",
            "_model_module_version": "1.5.0",
            "tooltip": "",
            "_view_count": null,
            "disabled": false,
            "_view_module_version": "1.5.0",
            "layout": "IPY_MODEL_c8e04c6052b24764a87de8fba7fc17f0",
            "_model_module": "@jupyter-widgets/controls",
            "icon": ""
          }
        },
        "5929b0ddaba647f98cb71c89a71f5a20": {
          "model_module": "@jupyter-widgets/controls",
          "model_name": "ButtonStyleModel",
          "state": {
            "_view_name": "StyleView",
            "_model_name": "ButtonStyleModel",
            "_view_module": "@jupyter-widgets/base",
            "_model_module_version": "1.5.0",
            "_view_count": null,
            "button_color": null,
            "font_weight": "",
            "_view_module_version": "1.2.0",
            "_model_module": "@jupyter-widgets/controls"
          }
        },
        "c8e04c6052b24764a87de8fba7fc17f0": {
          "model_module": "@jupyter-widgets/base",
          "model_name": "LayoutModel",
          "state": {
            "_view_name": "LayoutView",
            "grid_template_rows": null,
            "right": null,
            "justify_content": null,
            "_view_module": "@jupyter-widgets/base",
            "overflow": null,
            "_model_module_version": "1.2.0",
            "_view_count": null,
            "flex_flow": null,
            "width": null,
            "min_width": null,
            "border": null,
            "align_items": null,
            "bottom": null,
            "_model_module": "@jupyter-widgets/base",
            "top": null,
            "grid_column": null,
            "overflow_y": null,
            "overflow_x": null,
            "grid_auto_flow": null,
            "grid_area": null,
            "grid_template_columns": null,
            "flex": null,
            "_model_name": "LayoutModel",
            "justify_items": null,
            "grid_row": null,
            "max_height": null,
            "align_content": null,
            "visibility": null,
            "align_self": null,
            "height": null,
            "min_height": null,
            "padding": null,
            "grid_auto_rows": null,
            "grid_gap": null,
            "max_width": null,
            "order": null,
            "_view_module_version": "1.2.0",
            "grid_template_areas": null,
            "object_position": null,
            "object_fit": null,
            "grid_auto_columns": null,
            "margin": null,
            "display": null,
            "left": null
          }
        },
        "dcb188d988b9487ca68a662bd324648b": {
          "model_module": "@jupyter-widgets/controls",
          "model_name": "ButtonModel",
          "state": {
            "_view_name": "ButtonView",
            "style": "IPY_MODEL_f952888fb23f4683bccbf866de8ca660",
            "_dom_classes": [],
            "description": "Leo",
            "_model_name": "ButtonModel",
            "button_style": "",
            "_view_module": "@jupyter-widgets/controls",
            "_model_module_version": "1.5.0",
            "tooltip": "",
            "_view_count": null,
            "disabled": false,
            "_view_module_version": "1.5.0",
            "layout": "IPY_MODEL_f8e0e36b4e7d4767bbb9cf2f94a50863",
            "_model_module": "@jupyter-widgets/controls",
            "icon": ""
          }
        },
        "f952888fb23f4683bccbf866de8ca660": {
          "model_module": "@jupyter-widgets/controls",
          "model_name": "ButtonStyleModel",
          "state": {
            "_view_name": "StyleView",
            "_model_name": "ButtonStyleModel",
            "_view_module": "@jupyter-widgets/base",
            "_model_module_version": "1.5.0",
            "_view_count": null,
            "button_color": null,
            "font_weight": "",
            "_view_module_version": "1.2.0",
            "_model_module": "@jupyter-widgets/controls"
          }
        },
        "f8e0e36b4e7d4767bbb9cf2f94a50863": {
          "model_module": "@jupyter-widgets/base",
          "model_name": "LayoutModel",
          "state": {
            "_view_name": "LayoutView",
            "grid_template_rows": null,
            "right": null,
            "justify_content": null,
            "_view_module": "@jupyter-widgets/base",
            "overflow": null,
            "_model_module_version": "1.2.0",
            "_view_count": null,
            "flex_flow": null,
            "width": null,
            "min_width": null,
            "border": null,
            "align_items": null,
            "bottom": null,
            "_model_module": "@jupyter-widgets/base",
            "top": null,
            "grid_column": null,
            "overflow_y": null,
            "overflow_x": null,
            "grid_auto_flow": null,
            "grid_area": null,
            "grid_template_columns": null,
            "flex": null,
            "_model_name": "LayoutModel",
            "justify_items": null,
            "grid_row": null,
            "max_height": null,
            "align_content": null,
            "visibility": null,
            "align_self": null,
            "height": null,
            "min_height": null,
            "padding": null,
            "grid_auto_rows": null,
            "grid_gap": null,
            "max_width": null,
            "order": null,
            "_view_module_version": "1.2.0",
            "grid_template_areas": null,
            "object_position": null,
            "object_fit": null,
            "grid_auto_columns": null,
            "margin": null,
            "display": null,
            "left": null
          }
        },
        "f87658be220140c393081b3533016377": {
          "model_module": "@jupyter-widgets/controls",
          "model_name": "ButtonModel",
          "state": {
            "_view_name": "ButtonView",
            "style": "IPY_MODEL_478df57a12384729915e23ab6087fcdc",
            "_dom_classes": [],
            "description": "Virgo",
            "_model_name": "ButtonModel",
            "button_style": "",
            "_view_module": "@jupyter-widgets/controls",
            "_model_module_version": "1.5.0",
            "tooltip": "",
            "_view_count": null,
            "disabled": false,
            "_view_module_version": "1.5.0",
            "layout": "IPY_MODEL_7273f118a9c1447db450d55651e2979c",
            "_model_module": "@jupyter-widgets/controls",
            "icon": ""
          }
        },
        "478df57a12384729915e23ab6087fcdc": {
          "model_module": "@jupyter-widgets/controls",
          "model_name": "ButtonStyleModel",
          "state": {
            "_view_name": "StyleView",
            "_model_name": "ButtonStyleModel",
            "_view_module": "@jupyter-widgets/base",
            "_model_module_version": "1.5.0",
            "_view_count": null,
            "button_color": null,
            "font_weight": "",
            "_view_module_version": "1.2.0",
            "_model_module": "@jupyter-widgets/controls"
          }
        },
        "7273f118a9c1447db450d55651e2979c": {
          "model_module": "@jupyter-widgets/base",
          "model_name": "LayoutModel",
          "state": {
            "_view_name": "LayoutView",
            "grid_template_rows": null,
            "right": null,
            "justify_content": null,
            "_view_module": "@jupyter-widgets/base",
            "overflow": null,
            "_model_module_version": "1.2.0",
            "_view_count": null,
            "flex_flow": null,
            "width": null,
            "min_width": null,
            "border": null,
            "align_items": null,
            "bottom": null,
            "_model_module": "@jupyter-widgets/base",
            "top": null,
            "grid_column": null,
            "overflow_y": null,
            "overflow_x": null,
            "grid_auto_flow": null,
            "grid_area": null,
            "grid_template_columns": null,
            "flex": null,
            "_model_name": "LayoutModel",
            "justify_items": null,
            "grid_row": null,
            "max_height": null,
            "align_content": null,
            "visibility": null,
            "align_self": null,
            "height": null,
            "min_height": null,
            "padding": null,
            "grid_auto_rows": null,
            "grid_gap": null,
            "max_width": null,
            "order": null,
            "_view_module_version": "1.2.0",
            "grid_template_areas": null,
            "object_position": null,
            "object_fit": null,
            "grid_auto_columns": null,
            "margin": null,
            "display": null,
            "left": null
          }
        },
        "100da9ea304a456fbb060d39a85e872e": {
          "model_module": "@jupyter-widgets/controls",
          "model_name": "ButtonModel",
          "state": {
            "_view_name": "ButtonView",
            "style": "IPY_MODEL_447eb6f73ce344a2b8a061e4fe026028",
            "_dom_classes": [],
            "description": "Libra",
            "_model_name": "ButtonModel",
            "button_style": "",
            "_view_module": "@jupyter-widgets/controls",
            "_model_module_version": "1.5.0",
            "tooltip": "",
            "_view_count": null,
            "disabled": false,
            "_view_module_version": "1.5.0",
            "layout": "IPY_MODEL_8deeb89f5c9b4c29b8486dfc79bd0f19",
            "_model_module": "@jupyter-widgets/controls",
            "icon": ""
          }
        },
        "447eb6f73ce344a2b8a061e4fe026028": {
          "model_module": "@jupyter-widgets/controls",
          "model_name": "ButtonStyleModel",
          "state": {
            "_view_name": "StyleView",
            "_model_name": "ButtonStyleModel",
            "_view_module": "@jupyter-widgets/base",
            "_model_module_version": "1.5.0",
            "_view_count": null,
            "button_color": null,
            "font_weight": "",
            "_view_module_version": "1.2.0",
            "_model_module": "@jupyter-widgets/controls"
          }
        },
        "8deeb89f5c9b4c29b8486dfc79bd0f19": {
          "model_module": "@jupyter-widgets/base",
          "model_name": "LayoutModel",
          "state": {
            "_view_name": "LayoutView",
            "grid_template_rows": null,
            "right": null,
            "justify_content": null,
            "_view_module": "@jupyter-widgets/base",
            "overflow": null,
            "_model_module_version": "1.2.0",
            "_view_count": null,
            "flex_flow": null,
            "width": null,
            "min_width": null,
            "border": null,
            "align_items": null,
            "bottom": null,
            "_model_module": "@jupyter-widgets/base",
            "top": null,
            "grid_column": null,
            "overflow_y": null,
            "overflow_x": null,
            "grid_auto_flow": null,
            "grid_area": null,
            "grid_template_columns": null,
            "flex": null,
            "_model_name": "LayoutModel",
            "justify_items": null,
            "grid_row": null,
            "max_height": null,
            "align_content": null,
            "visibility": null,
            "align_self": null,
            "height": null,
            "min_height": null,
            "padding": null,
            "grid_auto_rows": null,
            "grid_gap": null,
            "max_width": null,
            "order": null,
            "_view_module_version": "1.2.0",
            "grid_template_areas": null,
            "object_position": null,
            "object_fit": null,
            "grid_auto_columns": null,
            "margin": null,
            "display": null,
            "left": null
          }
        },
        "397cf95222ff44c0ba6df197ed7e7742": {
          "model_module": "@jupyter-widgets/controls",
          "model_name": "ButtonModel",
          "state": {
            "_view_name": "ButtonView",
            "style": "IPY_MODEL_a380a6a3d69a4aa8b6adc88bc2fba3ab",
            "_dom_classes": [],
            "description": "Scorpio",
            "_model_name": "ButtonModel",
            "button_style": "",
            "_view_module": "@jupyter-widgets/controls",
            "_model_module_version": "1.5.0",
            "tooltip": "",
            "_view_count": null,
            "disabled": false,
            "_view_module_version": "1.5.0",
            "layout": "IPY_MODEL_64d97ba827be487595cfa1b8b21aa530",
            "_model_module": "@jupyter-widgets/controls",
            "icon": ""
          }
        },
        "a380a6a3d69a4aa8b6adc88bc2fba3ab": {
          "model_module": "@jupyter-widgets/controls",
          "model_name": "ButtonStyleModel",
          "state": {
            "_view_name": "StyleView",
            "_model_name": "ButtonStyleModel",
            "_view_module": "@jupyter-widgets/base",
            "_model_module_version": "1.5.0",
            "_view_count": null,
            "button_color": null,
            "font_weight": "",
            "_view_module_version": "1.2.0",
            "_model_module": "@jupyter-widgets/controls"
          }
        },
        "64d97ba827be487595cfa1b8b21aa530": {
          "model_module": "@jupyter-widgets/base",
          "model_name": "LayoutModel",
          "state": {
            "_view_name": "LayoutView",
            "grid_template_rows": null,
            "right": null,
            "justify_content": null,
            "_view_module": "@jupyter-widgets/base",
            "overflow": null,
            "_model_module_version": "1.2.0",
            "_view_count": null,
            "flex_flow": null,
            "width": null,
            "min_width": null,
            "border": null,
            "align_items": null,
            "bottom": null,
            "_model_module": "@jupyter-widgets/base",
            "top": null,
            "grid_column": null,
            "overflow_y": null,
            "overflow_x": null,
            "grid_auto_flow": null,
            "grid_area": null,
            "grid_template_columns": null,
            "flex": null,
            "_model_name": "LayoutModel",
            "justify_items": null,
            "grid_row": null,
            "max_height": null,
            "align_content": null,
            "visibility": null,
            "align_self": null,
            "height": null,
            "min_height": null,
            "padding": null,
            "grid_auto_rows": null,
            "grid_gap": null,
            "max_width": null,
            "order": null,
            "_view_module_version": "1.2.0",
            "grid_template_areas": null,
            "object_position": null,
            "object_fit": null,
            "grid_auto_columns": null,
            "margin": null,
            "display": null,
            "left": null
          }
        },
        "2a2205a6f0d94d67980df16e22487ca5": {
          "model_module": "@jupyter-widgets/controls",
          "model_name": "ButtonModel",
          "state": {
            "_view_name": "ButtonView",
            "style": "IPY_MODEL_5841a055dad44a28a897f91b46745b87",
            "_dom_classes": [],
            "description": "Sagittarius",
            "_model_name": "ButtonModel",
            "button_style": "",
            "_view_module": "@jupyter-widgets/controls",
            "_model_module_version": "1.5.0",
            "tooltip": "",
            "_view_count": null,
            "disabled": false,
            "_view_module_version": "1.5.0",
            "layout": "IPY_MODEL_ffa80af7cd1148df8cb2e022e4c7eca9",
            "_model_module": "@jupyter-widgets/controls",
            "icon": ""
          }
        },
        "5841a055dad44a28a897f91b46745b87": {
          "model_module": "@jupyter-widgets/controls",
          "model_name": "ButtonStyleModel",
          "state": {
            "_view_name": "StyleView",
            "_model_name": "ButtonStyleModel",
            "_view_module": "@jupyter-widgets/base",
            "_model_module_version": "1.5.0",
            "_view_count": null,
            "button_color": null,
            "font_weight": "",
            "_view_module_version": "1.2.0",
            "_model_module": "@jupyter-widgets/controls"
          }
        },
        "ffa80af7cd1148df8cb2e022e4c7eca9": {
          "model_module": "@jupyter-widgets/base",
          "model_name": "LayoutModel",
          "state": {
            "_view_name": "LayoutView",
            "grid_template_rows": null,
            "right": null,
            "justify_content": null,
            "_view_module": "@jupyter-widgets/base",
            "overflow": null,
            "_model_module_version": "1.2.0",
            "_view_count": null,
            "flex_flow": null,
            "width": null,
            "min_width": null,
            "border": null,
            "align_items": null,
            "bottom": null,
            "_model_module": "@jupyter-widgets/base",
            "top": null,
            "grid_column": null,
            "overflow_y": null,
            "overflow_x": null,
            "grid_auto_flow": null,
            "grid_area": null,
            "grid_template_columns": null,
            "flex": null,
            "_model_name": "LayoutModel",
            "justify_items": null,
            "grid_row": null,
            "max_height": null,
            "align_content": null,
            "visibility": null,
            "align_self": null,
            "height": null,
            "min_height": null,
            "padding": null,
            "grid_auto_rows": null,
            "grid_gap": null,
            "max_width": null,
            "order": null,
            "_view_module_version": "1.2.0",
            "grid_template_areas": null,
            "object_position": null,
            "object_fit": null,
            "grid_auto_columns": null,
            "margin": null,
            "display": null,
            "left": null
          }
        },
        "1431ecb594344e01ac28b083d0385796": {
          "model_module": "@jupyter-widgets/controls",
          "model_name": "ButtonModel",
          "state": {
            "_view_name": "ButtonView",
            "style": "IPY_MODEL_bdd0880b9f58495698268edff3705b19",
            "_dom_classes": [],
            "description": "Capricorn",
            "_model_name": "ButtonModel",
            "button_style": "",
            "_view_module": "@jupyter-widgets/controls",
            "_model_module_version": "1.5.0",
            "tooltip": "",
            "_view_count": null,
            "disabled": false,
            "_view_module_version": "1.5.0",
            "layout": "IPY_MODEL_d76c9a409f944ab689ba882160fe0394",
            "_model_module": "@jupyter-widgets/controls",
            "icon": ""
          }
        },
        "bdd0880b9f58495698268edff3705b19": {
          "model_module": "@jupyter-widgets/controls",
          "model_name": "ButtonStyleModel",
          "state": {
            "_view_name": "StyleView",
            "_model_name": "ButtonStyleModel",
            "_view_module": "@jupyter-widgets/base",
            "_model_module_version": "1.5.0",
            "_view_count": null,
            "button_color": null,
            "font_weight": "",
            "_view_module_version": "1.2.0",
            "_model_module": "@jupyter-widgets/controls"
          }
        },
        "d76c9a409f944ab689ba882160fe0394": {
          "model_module": "@jupyter-widgets/base",
          "model_name": "LayoutModel",
          "state": {
            "_view_name": "LayoutView",
            "grid_template_rows": null,
            "right": null,
            "justify_content": null,
            "_view_module": "@jupyter-widgets/base",
            "overflow": null,
            "_model_module_version": "1.2.0",
            "_view_count": null,
            "flex_flow": null,
            "width": null,
            "min_width": null,
            "border": null,
            "align_items": null,
            "bottom": null,
            "_model_module": "@jupyter-widgets/base",
            "top": null,
            "grid_column": null,
            "overflow_y": null,
            "overflow_x": null,
            "grid_auto_flow": null,
            "grid_area": null,
            "grid_template_columns": null,
            "flex": null,
            "_model_name": "LayoutModel",
            "justify_items": null,
            "grid_row": null,
            "max_height": null,
            "align_content": null,
            "visibility": null,
            "align_self": null,
            "height": null,
            "min_height": null,
            "padding": null,
            "grid_auto_rows": null,
            "grid_gap": null,
            "max_width": null,
            "order": null,
            "_view_module_version": "1.2.0",
            "grid_template_areas": null,
            "object_position": null,
            "object_fit": null,
            "grid_auto_columns": null,
            "margin": null,
            "display": null,
            "left": null
          }
        },
        "6f337d2af698427daea7a5139167cbf1": {
          "model_module": "@jupyter-widgets/controls",
          "model_name": "ButtonModel",
          "state": {
            "_view_name": "ButtonView",
            "style": "IPY_MODEL_ebdec7bc6378407eb7d9efdb03a47ce7",
            "_dom_classes": [],
            "description": "Aquarius",
            "_model_name": "ButtonModel",
            "button_style": "",
            "_view_module": "@jupyter-widgets/controls",
            "_model_module_version": "1.5.0",
            "tooltip": "",
            "_view_count": null,
            "disabled": false,
            "_view_module_version": "1.5.0",
            "layout": "IPY_MODEL_8a4dfabc4a974e93ac55339bfdadacff",
            "_model_module": "@jupyter-widgets/controls",
            "icon": ""
          }
        },
        "ebdec7bc6378407eb7d9efdb03a47ce7": {
          "model_module": "@jupyter-widgets/controls",
          "model_name": "ButtonStyleModel",
          "state": {
            "_view_name": "StyleView",
            "_model_name": "ButtonStyleModel",
            "_view_module": "@jupyter-widgets/base",
            "_model_module_version": "1.5.0",
            "_view_count": null,
            "button_color": null,
            "font_weight": "",
            "_view_module_version": "1.2.0",
            "_model_module": "@jupyter-widgets/controls"
          }
        },
        "8a4dfabc4a974e93ac55339bfdadacff": {
          "model_module": "@jupyter-widgets/base",
          "model_name": "LayoutModel",
          "state": {
            "_view_name": "LayoutView",
            "grid_template_rows": null,
            "right": null,
            "justify_content": null,
            "_view_module": "@jupyter-widgets/base",
            "overflow": null,
            "_model_module_version": "1.2.0",
            "_view_count": null,
            "flex_flow": null,
            "width": null,
            "min_width": null,
            "border": null,
            "align_items": null,
            "bottom": null,
            "_model_module": "@jupyter-widgets/base",
            "top": null,
            "grid_column": null,
            "overflow_y": null,
            "overflow_x": null,
            "grid_auto_flow": null,
            "grid_area": null,
            "grid_template_columns": null,
            "flex": null,
            "_model_name": "LayoutModel",
            "justify_items": null,
            "grid_row": null,
            "max_height": null,
            "align_content": null,
            "visibility": null,
            "align_self": null,
            "height": null,
            "min_height": null,
            "padding": null,
            "grid_auto_rows": null,
            "grid_gap": null,
            "max_width": null,
            "order": null,
            "_view_module_version": "1.2.0",
            "grid_template_areas": null,
            "object_position": null,
            "object_fit": null,
            "grid_auto_columns": null,
            "margin": null,
            "display": null,
            "left": null
          }
        },
        "ad72314f1f0b4fa3a0e3fdff602f1c5d": {
          "model_module": "@jupyter-widgets/controls",
          "model_name": "ButtonModel",
          "state": {
            "_view_name": "ButtonView",
            "style": "IPY_MODEL_cde1823fd12747e0bcca6303726867e6",
            "_dom_classes": [],
            "description": "Pisces",
            "_model_name": "ButtonModel",
            "button_style": "",
            "_view_module": "@jupyter-widgets/controls",
            "_model_module_version": "1.5.0",
            "tooltip": "",
            "_view_count": null,
            "disabled": false,
            "_view_module_version": "1.5.0",
            "layout": "IPY_MODEL_8913c011331d46bcb7b1cfe3f6851413",
            "_model_module": "@jupyter-widgets/controls",
            "icon": ""
          }
        },
        "cde1823fd12747e0bcca6303726867e6": {
          "model_module": "@jupyter-widgets/controls",
          "model_name": "ButtonStyleModel",
          "state": {
            "_view_name": "StyleView",
            "_model_name": "ButtonStyleModel",
            "_view_module": "@jupyter-widgets/base",
            "_model_module_version": "1.5.0",
            "_view_count": null,
            "button_color": null,
            "font_weight": "",
            "_view_module_version": "1.2.0",
            "_model_module": "@jupyter-widgets/controls"
          }
        },
        "8913c011331d46bcb7b1cfe3f6851413": {
          "model_module": "@jupyter-widgets/base",
          "model_name": "LayoutModel",
          "state": {
            "_view_name": "LayoutView",
            "grid_template_rows": null,
            "right": null,
            "justify_content": null,
            "_view_module": "@jupyter-widgets/base",
            "overflow": null,
            "_model_module_version": "1.2.0",
            "_view_count": null,
            "flex_flow": null,
            "width": null,
            "min_width": null,
            "border": null,
            "align_items": null,
            "bottom": null,
            "_model_module": "@jupyter-widgets/base",
            "top": null,
            "grid_column": null,
            "overflow_y": null,
            "overflow_x": null,
            "grid_auto_flow": null,
            "grid_area": null,
            "grid_template_columns": null,
            "flex": null,
            "_model_name": "LayoutModel",
            "justify_items": null,
            "grid_row": null,
            "max_height": null,
            "align_content": null,
            "visibility": null,
            "align_self": null,
            "height": null,
            "min_height": null,
            "padding": null,
            "grid_auto_rows": null,
            "grid_gap": null,
            "max_width": null,
            "order": null,
            "_view_module_version": "1.2.0",
            "grid_template_areas": null,
            "object_position": null,
            "object_fit": null,
            "grid_auto_columns": null,
            "margin": null,
            "display": null,
            "left": null
          }
        },
        "2ae83d5bfef642ca9bbc57eabb7f167e": {
          "model_module": "@jupyter-widgets/output",
          "model_name": "OutputModel",
          "state": {
            "_view_name": "OutputView",
            "msg_id": "",
            "_dom_classes": [],
            "_model_name": "OutputModel",
            "outputs": [
              {
                "output_type": "stream",
                "metadata": {
                  "tags": []
                },
                "text": "\n Sign:  Capricorn \n\n",
                "stream": "stdout"
              },
              {
                "output_type": "display_data",
                "metadata": {
                  "tags": []
                },
                "text/html": "<div>\n<style scoped>\n    .dataframe tbody tr th:only-of-type {\n        vertical-align: middle;\n    }\n\n    .dataframe tbody tr th {\n        vertical-align: top;\n    }\n\n    .dataframe thead th {\n        text-align: right;\n    }\n</style>\n<table border=\"1\" class=\"dataframe\">\n  <thead>\n    <tr style=\"text-align: right;\">\n      <th></th>\n      <th></th>\n      <th>yesterday</th>\n      <th>today</th>\n      <th>tomorrow</th>\n    </tr>\n  </thead>\n  <tbody>\n    <tr>\n      <th>0</th>\n      <td>Date</td>\n      <td>2021-03-03</td>\n      <td>2021-03-04</td>\n      <td>2021-03-05</td>\n    </tr>\n    <tr>\n      <th>1</th>\n      <td>Mood</td>\n      <td>Curious</td>\n      <td>Determined</td>\n      <td>Cautious</td>\n    </tr>\n    <tr>\n      <th>2</th>\n      <td>Compatibility</td>\n      <td>Scorpio</td>\n      <td>Taurus</td>\n      <td>Sagittarius</td>\n    </tr>\n    <tr>\n      <th>3</th>\n      <td>Lucky number</td>\n      <td>23</td>\n      <td>39</td>\n      <td>24</td>\n    </tr>\n    <tr>\n      <th>4</th>\n      <td>Lucky time</td>\n      <td>5pm</td>\n      <td>2pm</td>\n      <td>7pm</td>\n    </tr>\n    <tr>\n      <th>5</th>\n      <td>Lucky color</td>\n      <td>Yellow</td>\n      <td>Orange</td>\n      <td>Peach</td>\n    </tr>\n    <tr>\n      <th>6</th>\n      <td>Description</td>\n      <td>Try your best to keep yourself open-minded today -- you've got far more going on than usual, and might have to take in some information that just doesn't make sense to you quite yet.</td>\n      <td>You're facing a big choice, but it's not that hard, really -- only one possibility really feels right to you. That's not to say that it's going to be easy once you've made the call, but at least you're certain</td>\n      <td>An odd coincidence makes life much simpler for you early today. It might feel as if you're on a lucky streak, but now is not the time to borrow money for a Vegas trip. Just keep inching forward.</td>\n    </tr>\n  </tbody>\n</table>\n</div>",
                "text/plain": "                  ...                                                                                                                                                                                            tomorrow\n0           Date  ...                                                                                                                                                                                          2021-03-05\n1           Mood  ...                                                                                                                                                                                            Cautious\n2  Compatibility  ...                                                                                                                                                                                         Sagittarius\n3   Lucky number  ...                                                                                                                                                                                                  24\n4     Lucky time  ...                                                                                                                                                                                                 7pm\n5    Lucky color  ...                                                                                                                                                                                               Peach\n6    Description  ...  An odd coincidence makes life much simpler for you early today. It might feel as if you're on a lucky streak, but now is not the time to borrow money for a Vegas trip. Just keep inching forward.\n\n[7 rows x 4 columns]"
              }
            ],
            "_view_module": "@jupyter-widgets/output",
            "_model_module_version": "1.0.0",
            "_view_count": null,
            "_view_module_version": "1.0.0",
            "layout": "IPY_MODEL_b4d31fcbee714b5eabac7aafd5111edb",
            "_model_module": "@jupyter-widgets/output"
          }
        },
        "b4d31fcbee714b5eabac7aafd5111edb": {
          "model_module": "@jupyter-widgets/base",
          "model_name": "LayoutModel",
          "state": {
            "_view_name": "LayoutView",
            "grid_template_rows": null,
            "right": null,
            "justify_content": null,
            "_view_module": "@jupyter-widgets/base",
            "overflow": null,
            "_model_module_version": "1.2.0",
            "_view_count": null,
            "flex_flow": null,
            "width": null,
            "min_width": null,
            "border": null,
            "align_items": null,
            "bottom": null,
            "_model_module": "@jupyter-widgets/base",
            "top": null,
            "grid_column": null,
            "overflow_y": null,
            "overflow_x": null,
            "grid_auto_flow": null,
            "grid_area": null,
            "grid_template_columns": null,
            "flex": null,
            "_model_name": "LayoutModel",
            "justify_items": null,
            "grid_row": null,
            "max_height": null,
            "align_content": null,
            "visibility": null,
            "align_self": null,
            "height": null,
            "min_height": null,
            "padding": null,
            "grid_auto_rows": null,
            "grid_gap": null,
            "max_width": null,
            "order": null,
            "_view_module_version": "1.2.0",
            "grid_template_areas": null,
            "object_position": null,
            "object_fit": null,
            "grid_auto_columns": null,
            "margin": null,
            "display": null,
            "left": null
          }
        }
      }
    }
  },
  "cells": [
    {
      "cell_type": "markdown",
      "metadata": {
        "id": "view-in-github",
        "colab_type": "text"
      },
      "source": [
        "<a href=\"https://colab.research.google.com/github/shi093/python_widget/blob/main/Daily_Horoscope.ipynb\" target=\"_parent\"><img src=\"https://colab.research.google.com/assets/colab-badge.svg\" alt=\"Open In Colab\"/></a>"
      ]
    },
    {
      "cell_type": "markdown",
      "metadata": {
        "id": "8ASJ4WK0juSw"
      },
      "source": [
        "# Read your daily horoscope in Python!\n",
        "\n",
        "This is a tool for reading your daily horoscope. Run each code block in sequence and you will be able to choose your star sign by clicking the button below the image of your horoscope sign (or star sign). The results include your mood, lucky number, lucky time, lucky color, compatibility with other signs, and the description of your sign for yesterday, today and tomorrow."
      ]
    },
    {
      "cell_type": "markdown",
      "metadata": {
        "id": "s-5xgDwAkokf"
      },
      "source": [
        "Step1: install PyAztro package\n",
        "\n",
        "PyAztro is a Python package for fun. It provides your daily horoscope read which is updated everyday at midnight GMT (Greenwich Mean TIme). "
      ]
    },
    {
      "cell_type": "code",
      "metadata": {
        "id": "47M7GNKqu5p-"
      },
      "source": [
        "!pip install pyaztro"
      ],
      "execution_count": null,
      "outputs": []
    },
    {
      "cell_type": "markdown",
      "metadata": {
        "id": "hTm_75FxqJ0-"
      },
      "source": [
        "Step 2: Grab horoscope sign images from the web."
      ]
    },
    {
      "cell_type": "code",
      "metadata": {
        "id": "Mwed_bV3ZBOC"
      },
      "source": [
        "from PIL import Image\n",
        "import requests\n",
        "\n",
        "url = \"https://www.horoscope.com/images-US/signs/profile-aries.png\"\n",
        "im_aries = Image.open(requests.get(url, stream=True).raw)\n",
        "url = \"https://www.horoscope.com/images-US/signs/profile-taurus.png\"\n",
        "im_taurus = Image.open(requests.get(url, stream=True).raw)\n",
        "url = \"https://www.horoscope.com/images-US/signs/profile-gemini.png\"\n",
        "im_gemini = Image.open(requests.get(url, stream=True).raw)\n",
        "url = \"https://www.horoscope.com/images-US/signs/profile-cancer.png\"\n",
        "im_cancer = Image.open(requests.get(url, stream=True).raw)\n",
        "url = \"https://www.horoscope.com/images-US/signs/profile-leo.png\"\n",
        "im_leo = Image.open(requests.get(url, stream=True).raw)\n",
        "url = \"https://www.horoscope.com/images-US/signs/profile-virgo.png\"\n",
        "im_virgo = Image.open(requests.get(url, stream=True).raw)\n",
        "url = \"https://www.horoscope.com/images-US/signs/profile-libra.png\"\n",
        "im_libra = Image.open(requests.get(url, stream=True).raw)\n",
        "url = \"https://www.horoscope.com/images-US/signs/profile-scorpio.png\"\n",
        "im_scorpio = Image.open(requests.get(url, stream=True).raw)\n",
        "url = \"https://www.horoscope.com/images-US/signs/profile-sagittarius.png\"\n",
        "im_sagittarius = Image.open(requests.get(url, stream=True).raw)\n",
        "url = \"https://www.horoscope.com/images-US/signs/profile-capricorn.png\"\n",
        "im_capricorn = Image.open(requests.get(url, stream=True).raw)\n",
        "url = \"https://www.horoscope.com/images-US/signs/profile-aquarius.png\"\n",
        "im_aquarius = Image.open(requests.get(url, stream=True).raw)\n",
        "url = \"https://www.horoscope.com/images-US/signs/profile-pisces.png\"\n",
        "im_pisces = Image.open(requests.get(url, stream=True).raw)"
      ],
      "execution_count": null,
      "outputs": []
    },
    {
      "cell_type": "markdown",
      "metadata": {
        "id": "6XL_BCbcqXDr"
      },
      "source": [
        "Step 3: Create a variable to hold the horoscope images and the corresponding date ranges."
      ]
    },
    {
      "cell_type": "code",
      "metadata": {
        "id": "oWMYGvoNr8yB"
      },
      "source": [
        "image_name = []\n",
        "image_name.append({'name':'Aries', 'image':im_aries, 'date': 'Mar 21-Apr 20'})\n",
        "image_name.append({'name':'Taurus', 'image':im_taurus, 'date': 'Apr 21-May 20'})\n",
        "image_name.append({'name':'Gemini', 'image':im_gemini, 'date': 'May 21-Jun 21'})\n",
        "image_name.append({'name':'Cancer', 'image':im_cancer, 'date': 'Jun 22-Jul 22'})\n",
        "image_name.append({'name':'Leo', 'image':im_leo, 'date': 'Jul 23-Aug 22'})\n",
        "image_name.append({'name':'Virgo', 'image':im_virgo, 'date': 'Aug 23-Sep 22'})\n",
        "image_name.append({'name':'Libra', 'image':im_libra, 'date': 'Sep 23-Oct 22'})\n",
        "image_name.append({'name':'Scorpio', 'image':im_scorpio, 'date': 'Oct 23-Nov 22'})\n",
        "image_name.append({'name':'Sagittarius', 'image':im_sagittarius, 'date': 'Nov 23-Dec 21'})\n",
        "image_name.append({'name':'Capricorn', 'image':im_capricorn, 'date': 'Dec 22-Jan 19'})\n",
        "image_name.append({'name':'Aquarius', 'image':im_aquarius, 'date': 'Jan 20-Feb 18'})\n",
        "image_name.append({'name':'Pisces', 'image':im_pisces, 'date': 'Feb 19-Mar 20'})"
      ],
      "execution_count": null,
      "outputs": []
    },
    {
      "cell_type": "markdown",
      "metadata": {
        "id": "Gn0Mb6SrqzS6"
      },
      "source": [
        "Step 4: Generate the user interface of the tool."
      ]
    },
    {
      "cell_type": "code",
      "metadata": {
        "colab": {
          "base_uri": "https://localhost:8080/",
          "height": 874,
          "referenced_widgets": [
            "65687733376f476cbabe055ce2600ebb",
            "4c455b2c3b21499b845b5b5f51e8f181",
            "e4eaf182ce0f41dc89996f08908cc526",
            "b0b29065f4dd4a3b86723abdaf81ab88",
            "a007f1b119864390b7b39f23ccf147dc",
            "a1f100a430804ed98898f83d3bc0f709",
            "479fd77c60514e68b05231805b062018",
            "e09d1e4b6a3e48feb470f2daedbe9e25",
            "9d6c64cd3b4942ae9945f12c3ac68430",
            "6c141802decf4622807c3615f41e4ec6",
            "5929b0ddaba647f98cb71c89a71f5a20",
            "c8e04c6052b24764a87de8fba7fc17f0",
            "dcb188d988b9487ca68a662bd324648b",
            "f952888fb23f4683bccbf866de8ca660",
            "f8e0e36b4e7d4767bbb9cf2f94a50863",
            "f87658be220140c393081b3533016377",
            "478df57a12384729915e23ab6087fcdc",
            "7273f118a9c1447db450d55651e2979c",
            "100da9ea304a456fbb060d39a85e872e",
            "447eb6f73ce344a2b8a061e4fe026028",
            "8deeb89f5c9b4c29b8486dfc79bd0f19",
            "397cf95222ff44c0ba6df197ed7e7742",
            "a380a6a3d69a4aa8b6adc88bc2fba3ab",
            "64d97ba827be487595cfa1b8b21aa530",
            "2a2205a6f0d94d67980df16e22487ca5",
            "5841a055dad44a28a897f91b46745b87",
            "ffa80af7cd1148df8cb2e022e4c7eca9",
            "1431ecb594344e01ac28b083d0385796",
            "bdd0880b9f58495698268edff3705b19",
            "d76c9a409f944ab689ba882160fe0394",
            "6f337d2af698427daea7a5139167cbf1",
            "ebdec7bc6378407eb7d9efdb03a47ce7",
            "8a4dfabc4a974e93ac55339bfdadacff",
            "ad72314f1f0b4fa3a0e3fdff602f1c5d",
            "cde1823fd12747e0bcca6303726867e6",
            "8913c011331d46bcb7b1cfe3f6851413",
            "2ae83d5bfef642ca9bbc57eabb7f167e",
            "b4d31fcbee714b5eabac7aafd5111edb"
          ]
        },
        "id": "hpgo13my_BvR",
        "outputId": "39678b1b-c78f-4182-d156-fdace1ea34ac"
      },
      "source": [
        "import pyaztro\n",
        "from google.colab import widgets\n",
        "import ipywidgets\n",
        "from IPython.display import display, clear_output\n",
        "import pandas as pd\n",
        "\n",
        "pd.set_option(\"max_colwidth\", None)\n",
        "\n",
        "output = ipywidgets.widgets.Output()\n",
        "\n",
        "days = ['yesterday', 'today', 'tomorrow']\n",
        "data_type = ['Date', 'Mood', 'Compatibility', 'Lucky number', 'Lucky time', 'Lucky color', 'Description']\n",
        "df = pd.DataFrame(data_type,columns=[''])\n",
        "\n",
        "def on_button_clicked(b):\n",
        "  # Display the message within the output widget.\n",
        "  with output:\n",
        "    clear_output()\n",
        "    sign_name = str(b.description)\n",
        "    for i in range(0,3):\n",
        "      sign_info = pyaztro.Aztro(sign=sign_name, day=days[i])\n",
        "      df[days[i]] =[sign_info.current_date, sign_info.mood, sign_info.compatibility, sign_info.lucky_number, sign_info.lucky_time, sign_info.color, sign_info.description]\n",
        "\n",
        "    print('\\n', 'Sign: ', str(b.description), '\\n')\n",
        "    display(df)\n",
        "\n",
        "button_list = []\n",
        "for i in range(0,12):\n",
        "  button = ipywidgets.widgets.Button(description=image_name[i]['name'])\n",
        "  button.on_click(on_button_clicked)\n",
        "  button_list.append(button)    \n",
        "\n",
        "grid = widgets.Grid(1, 6, header_row=True, header_column=True) \n",
        "newsize = (100, 100)\n",
        "for (row, col) in grid:\n",
        "  index = row*6+col\n",
        "  print(\"\\n\")\n",
        "  display(image_name[index]['image'].resize(newsize))\n",
        "  print(\"\\n\"+image_name[index]['date']+\"\\n\")\n",
        "  display(button_list[index])\n",
        "for (row, col) in grid:\n",
        "  index = row*6+col\n",
        "  print(\"\\n\")\n",
        "  display(image_name[index+6]['image'].resize(newsize))\n",
        "  print(\"\\n\"+image_name[index+6]['date']+\"\\n\")\n",
        "  display(button_list[index+6])\n",
        "print('\\nSelect your Star Sign by clicking the button\\n')\n",
        "display(output)"
      ],
      "execution_count": null,
      "outputs": [
        {
          "output_type": "display_data",
          "data": {
            "text/html": [
              "<style>\n",
              "       table#id40, #id40 > tbody > tr > th, #id40 > tbody > tr > td {\n",
              "         border: 1px solid lightgray;\n",
              "         border-collapse:collapse;\n",
              "         \n",
              "        }</style>"
            ],
            "text/plain": [
              "<IPython.core.display.HTML object>"
            ]
          },
          "metadata": {
            "tags": [
              "outputarea_id40"
            ]
          }
        },
        {
          "output_type": "display_data",
          "data": {
            "text/html": [
              "<table id=id40><tr><th id=id40-0-0></th><th id=id40-0-1></th><th id=id40-0-2></th><th id=id40-0-3></th><th id=id40-0-4></th><th id=id40-0-5></th></tr></table>"
            ],
            "text/plain": [
              "<IPython.core.display.HTML object>"
            ]
          },
          "metadata": {
            "tags": [
              "outputarea_id40"
            ]
          }
        },
        {
          "output_type": "display_data",
          "data": {
            "application/javascript": [
              "window[\"2805622a-7c82-11eb-9512-0242ac1c0002\"] = google.colab.output.getActiveOutputArea();\n",
              "//# sourceURL=js_1240982e09"
            ],
            "text/plain": [
              "<IPython.core.display.Javascript object>"
            ]
          },
          "metadata": {
            "tags": [
              "id40-0-0",
              "outputarea_id40"
            ]
          }
        },
        {
          "output_type": "display_data",
          "data": {
            "application/javascript": [
              "window[\"2805ed9e-7c82-11eb-9512-0242ac1c0002\"] = document.querySelector(\"#id40-0-0\");\n",
              "//# sourceURL=js_67444c576d"
            ],
            "text/plain": [
              "<IPython.core.display.Javascript object>"
            ]
          },
          "metadata": {
            "tags": [
              "id40-0-0",
              "outputarea_id40"
            ]
          }
        },
        {
          "output_type": "display_data",
          "data": {
            "application/javascript": [
              "window[\"28065392-7c82-11eb-9512-0242ac1c0002\"] = google.colab.output.setActiveOutputArea(window[\"2805ed9e-7c82-11eb-9512-0242ac1c0002\"]);\n",
              "//# sourceURL=js_3288196a25"
            ],
            "text/plain": [
              "<IPython.core.display.Javascript object>"
            ]
          },
          "metadata": {
            "tags": [
              "id40-0-0",
              "outputarea_id40"
            ]
          }
        },
        {
          "output_type": "stream",
          "text": [
            "\n",
            "\n"
          ],
          "name": "stdout"
        },
        {
          "output_type": "display_data",
          "data": {
            "image/png": "[encoded data removed]",
            "text/plain": [
              "<PIL.Image.Image image mode=RGBA size=100x100 at 0x7F3AB8106BD0>"
            ]
          },
          "metadata": {
            "tags": [
              "id40-0-0",
              "outputarea_id40",
              "user_output"
            ]
          }
        },
        {
          "output_type": "stream",
          "text": [
            "\n",
            "Mar 21-Apr 20\n",
            "\n"
          ],
          "name": "stdout"
        },
        {
          "output_type": "display_data",
          "data": {
            "application/vnd.jupyter.widget-view+json": {
              "model_id": "65687733376f476cbabe055ce2600ebb",
              "version_minor": 0,
              "version_major": 2
            },
            "text/plain": [
              "Button(description='Aries', style=ButtonStyle())"
            ]
          },
          "metadata": {
            "tags": [
              "id40-0-0",
              "outputarea_id40",
              "user_output"
            ]
          }
        },
        {
          "output_type": "display_data",
          "data": {
            "application/javascript": [
              "window[\"280bb8aa-7c82-11eb-9512-0242ac1c0002\"] = google.colab.output.setActiveOutputArea(window[\"2805622a-7c82-11eb-9512-0242ac1c0002\"]);\n",
              "//# sourceURL=js_d8cd62b2e5"
            ],
            "text/plain": [
              "<IPython.core.display.Javascript object>"
            ]
          },
          "metadata": {
            "tags": [
              "id40-0-0",
              "outputarea_id40"
            ]
          }
        },
        {
          "output_type": "display_data",
          "data": {
            "application/javascript": [
              "window[\"280e347c-7c82-11eb-9512-0242ac1c0002\"] = google.colab.output.getActiveOutputArea();\n",
              "//# sourceURL=js_442ca8964e"
            ],
            "text/plain": [
              "<IPython.core.display.Javascript object>"
            ]
          },
          "metadata": {
            "tags": [
              "id40-0-1",
              "outputarea_id40"
            ]
          }
        },
        {
          "output_type": "display_data",
          "data": {
            "application/javascript": [
              "window[\"280e9ac0-7c82-11eb-9512-0242ac1c0002\"] = document.querySelector(\"#id40-0-1\");\n",
              "//# sourceURL=js_04e321c781"
            ],
            "text/plain": [
              "<IPython.core.display.Javascript object>"
            ]
          },
          "metadata": {
            "tags": [
              "id40-0-1",
              "outputarea_id40"
            ]
          }
        },
        {
          "output_type": "display_data",
          "data": {
            "application/javascript": [
              "window[\"280ef42a-7c82-11eb-9512-0242ac1c0002\"] = google.colab.output.setActiveOutputArea(window[\"280e9ac0-7c82-11eb-9512-0242ac1c0002\"]);\n",
              "//# sourceURL=js_5893ac8d17"
            ],
            "text/plain": [
              "<IPython.core.display.Javascript object>"
            ]
          },
          "metadata": {
            "tags": [
              "id40-0-1",
              "outputarea_id40"
            ]
          }
        },
        {
          "output_type": "stream",
          "text": [
            "\n",
            "\n"
          ],
          "name": "stdout"
        },
        {
          "output_type": "display_data",
          "data": {
            "image/png": "[encoded data removed]",
            "text/plain": [
              "<PIL.Image.Image image mode=RGBA size=100x100 at 0x7F3AB8106790>"
            ]
          },
          "metadata": {
            "tags": [
              "id40-0-1",
              "outputarea_id40",
              "user_output"
            ]
          }
        },
        {
          "output_type": "stream",
          "text": [
            "\n",
            "Apr 21-May 20\n",
            "\n"
          ],
          "name": "stdout"
        },
        {
          "output_type": "display_data",
          "data": {
            "application/vnd.jupyter.widget-view+json": {
              "model_id": "b0b29065f4dd4a3b86723abdaf81ab88",
              "version_minor": 0,
              "version_major": 2
            },
            "text/plain": [
              "Button(description='Taurus', style=ButtonStyle())"
            ]
          },
          "metadata": {
            "tags": [
              "id40-0-1",
              "outputarea_id40",
              "user_output"
            ]
          }
        },
        {
          "output_type": "display_data",
          "data": {
            "application/javascript": [
              "window[\"28138a26-7c82-11eb-9512-0242ac1c0002\"] = google.colab.output.setActiveOutputArea(window[\"280e347c-7c82-11eb-9512-0242ac1c0002\"]);\n",
              "//# sourceURL=js_fe4bc30f27"
            ],
            "text/plain": [
              "<IPython.core.display.Javascript object>"
            ]
          },
          "metadata": {
            "tags": [
              "id40-0-1",
              "outputarea_id40"
            ]
          }
        },
        {
          "output_type": "display_data",
          "data": {
            "application/javascript": [
              "window[\"28152eda-7c82-11eb-9512-0242ac1c0002\"] = google.colab.output.getActiveOutputArea();\n",
              "//# sourceURL=js_39ce439269"
            ],
            "text/plain": [
              "<IPython.core.display.Javascript object>"
            ]
          },
          "metadata": {
            "tags": [
              "id40-0-2",
              "outputarea_id40"
            ]
          }
        },
        {
          "output_type": "display_data",
          "data": {
            "application/javascript": [
              "window[\"28159208-7c82-11eb-9512-0242ac1c0002\"] = document.querySelector(\"#id40-0-2\");\n",
              "//# sourceURL=js_9faaee87a1"
            ],
            "text/plain": [
              "<IPython.core.display.Javascript object>"
            ]
          },
          "metadata": {
            "tags": [
              "id40-0-2",
              "outputarea_id40"
            ]
          }
        },
        {
          "output_type": "display_data",
          "data": {
            "application/javascript": [
              "window[\"2815eb04-7c82-11eb-9512-0242ac1c0002\"] = google.colab.output.setActiveOutputArea(window[\"28159208-7c82-11eb-9512-0242ac1c0002\"]);\n",
              "//# sourceURL=js_dd6e8f7fbd"
            ],
            "text/plain": [
              "<IPython.core.display.Javascript object>"
            ]
          },
          "metadata": {
            "tags": [
              "id40-0-2",
              "outputarea_id40"
            ]
          }
        },
        {
          "output_type": "stream",
          "text": [
            "\n",
            "\n"
          ],
          "name": "stdout"
        },
        {
          "output_type": "display_data",
          "data": {
            "image/png": "[encoded data removed]",
            "text/plain": [
              "<PIL.Image.Image image mode=RGBA size=100x100 at 0x7F3AB8106690>"
            ]
          },
          "metadata": {
            "tags": [
              "id40-0-2",
              "outputarea_id40",
              "user_output"
            ]
          }
        },
        {
          "output_type": "stream",
          "text": [
            "\n",
            "May 21-Jun 21\n",
            "\n"
          ],
          "name": "stdout"
        },
        {
          "output_type": "display_data",
          "data": {
            "application/vnd.jupyter.widget-view+json": {
              "model_id": "479fd77c60514e68b05231805b062018",
              "version_minor": 0,
              "version_major": 2
            },
            "text/plain": [
              "Button(description='Gemini', style=ButtonStyle())"
            ]
          },
          "metadata": {
            "tags": [
              "id40-0-2",
              "outputarea_id40",
              "user_output"
            ]
          }
        },
        {
          "output_type": "display_data",
          "data": {
            "application/javascript": [
              "window[\"281ab5ee-7c82-11eb-9512-0242ac1c0002\"] = google.colab.output.setActiveOutputArea(window[\"28152eda-7c82-11eb-9512-0242ac1c0002\"]);\n",
              "//# sourceURL=js_edb95adef7"
            ],
            "text/plain": [
              "<IPython.core.display.Javascript object>"
            ]
          },
          "metadata": {
            "tags": [
              "id40-0-2",
              "outputarea_id40"
            ]
          }
        },
        {
          "output_type": "display_data",
          "data": {
            "application/javascript": [
              "window[\"281c9526-7c82-11eb-9512-0242ac1c0002\"] = google.colab.output.getActiveOutputArea();\n",
              "//# sourceURL=js_72c98f0366"
            ],
            "text/plain": [
              "<IPython.core.display.Javascript object>"
            ]
          },
          "metadata": {
            "tags": [
              "id40-0-3",
              "outputarea_id40"
            ]
          }
        },
        {
          "output_type": "display_data",
          "data": {
            "application/javascript": [
              "window[\"281e8a98-7c82-11eb-9512-0242ac1c0002\"] = document.querySelector(\"#id40-0-3\");\n",
              "//# sourceURL=js_de7028d0b5"
            ],
            "text/plain": [
              "<IPython.core.display.Javascript object>"
            ]
          },
          "metadata": {
            "tags": [
              "id40-0-3",
              "outputarea_id40"
            ]
          }
        },
        {
          "output_type": "display_data",
          "data": {
            "application/javascript": [
              "window[\"281f5572-7c82-11eb-9512-0242ac1c0002\"] = google.colab.output.setActiveOutputArea(window[\"281e8a98-7c82-11eb-9512-0242ac1c0002\"]);\n",
              "//# sourceURL=js_f172d80b96"
            ],
            "text/plain": [
              "<IPython.core.display.Javascript object>"
            ]
          },
          "metadata": {
            "tags": [
              "id40-0-3",
              "outputarea_id40"
            ]
          }
        },
        {
          "output_type": "stream",
          "text": [
            "\n",
            "\n"
          ],
          "name": "stdout"
        },
        {
          "output_type": "display_data",
          "data": {
            "image/png": "[encoded data removed]",
            "text/plain": [
              "<PIL.Image.Image image mode=RGBA size=100x100 at 0x7F3AB817EFD0>"
            ]
          },
          "metadata": {
            "tags": [
              "id40-0-3",
              "outputarea_id40",
              "user_output"
            ]
          }
        },
        {
          "output_type": "stream",
          "text": [
            "\n",
            "Jun 22-Jul 22\n",
            "\n"
          ],
          "name": "stdout"
        },
        {
          "output_type": "display_data",
          "data": {
            "application/vnd.jupyter.widget-view+json": {
              "model_id": "6c141802decf4622807c3615f41e4ec6",
              "version_minor": 0,
              "version_major": 2
            },
            "text/plain": [
              "Button(description='Cancer', style=ButtonStyle())"
            ]
          },
          "metadata": {
            "tags": [
              "id40-0-3",
              "outputarea_id40",
              "user_output"
            ]
          }
        },
        {
          "output_type": "display_data",
          "data": {
            "application/javascript": [
              "window[\"28241382-7c82-11eb-9512-0242ac1c0002\"] = google.colab.output.setActiveOutputArea(window[\"281c9526-7c82-11eb-9512-0242ac1c0002\"]);\n",
              "//# sourceURL=js_d94e076302"
            ],
            "text/plain": [
              "<IPython.core.display.Javascript object>"
            ]
          },
          "metadata": {
            "tags": [
              "id40-0-3",
              "outputarea_id40"
            ]
          }
        },
        {
          "output_type": "display_data",
          "data": {
            "application/javascript": [
              "window[\"28264526-7c82-11eb-9512-0242ac1c0002\"] = google.colab.output.getActiveOutputArea();\n",
              "//# sourceURL=js_c156f32e6c"
            ],
            "text/plain": [
              "<IPython.core.display.Javascript object>"
            ]
          },
          "metadata": {
            "tags": [
              "id40-0-4",
              "outputarea_id40"
            ]
          }
        },
        {
          "output_type": "display_data",
          "data": {
            "application/javascript": [
              "window[\"28288868-7c82-11eb-9512-0242ac1c0002\"] = document.querySelector(\"#id40-0-4\");\n",
              "//# sourceURL=js_3f0cc0901a"
            ],
            "text/plain": [
              "<IPython.core.display.Javascript object>"
            ]
          },
          "metadata": {
            "tags": [
              "id40-0-4",
              "outputarea_id40"
            ]
          }
        },
        {
          "output_type": "display_data",
          "data": {
            "application/javascript": [
              "window[\"2828d4e4-7c82-11eb-9512-0242ac1c0002\"] = google.colab.output.setActiveOutputArea(window[\"28288868-7c82-11eb-9512-0242ac1c0002\"]);\n",
              "//# sourceURL=js_f14ded2fd0"
            ],
            "text/plain": [
              "<IPython.core.display.Javascript object>"
            ]
          },
          "metadata": {
            "tags": [
              "id40-0-4",
              "outputarea_id40"
            ]
          }
        },
        {
          "output_type": "stream",
          "text": [
            "\n",
            "\n"
          ],
          "name": "stdout"
        },
        {
          "output_type": "display_data",
          "data": {
            "image/png": "[encoded data removed]",
            "text/plain": [
              "<PIL.Image.Image image mode=RGBA size=100x100 at 0x7F3AB817EAD0>"
            ]
          },
          "metadata": {
            "tags": [
              "id40-0-4",
              "outputarea_id40",
              "user_output"
            ]
          }
        },
        {
          "output_type": "stream",
          "text": [
            "\n",
            "Jul 23-Aug 22\n",
            "\n"
          ],
          "name": "stdout"
        },
        {
          "output_type": "display_data",
          "data": {
            "application/vnd.jupyter.widget-view+json": {
              "model_id": "dcb188d988b9487ca68a662bd324648b",
              "version_minor": 0,
              "version_major": 2
            },
            "text/plain": [
              "Button(description='Leo', style=ButtonStyle())"
            ]
          },
          "metadata": {
            "tags": [
              "id40-0-4",
              "outputarea_id40",
              "user_output"
            ]
          }
        },
        {
          "output_type": "display_data",
          "data": {
            "application/javascript": [
              "window[\"28332598-7c82-11eb-9512-0242ac1c0002\"] = google.colab.output.setActiveOutputArea(window[\"28264526-7c82-11eb-9512-0242ac1c0002\"]);\n",
              "//# sourceURL=js_c6a1f700e9"
            ],
            "text/plain": [
              "<IPython.core.display.Javascript object>"
            ]
          },
          "metadata": {
            "tags": [
              "id40-0-4",
              "outputarea_id40"
            ]
          }
        },
        {
          "output_type": "display_data",
          "data": {
            "application/javascript": [
              "window[\"2836b3a2-7c82-11eb-9512-0242ac1c0002\"] = google.colab.output.getActiveOutputArea();\n",
              "//# sourceURL=js_57ee376569"
            ],
            "text/plain": [
              "<IPython.core.display.Javascript object>"
            ]
          },
          "metadata": {
            "tags": [
              "id40-0-5",
              "outputarea_id40"
            ]
          }
        },
        {
          "output_type": "display_data",
          "data": {
            "application/javascript": [
              "window[\"2837032a-7c82-11eb-9512-0242ac1c0002\"] = document.querySelector(\"#id40-0-5\");\n",
              "//# sourceURL=js_3741da4d74"
            ],
            "text/plain": [
              "<IPython.core.display.Javascript object>"
            ]
          },
          "metadata": {
            "tags": [
              "id40-0-5",
              "outputarea_id40"
            ]
          }
        },
        {
          "output_type": "display_data",
          "data": {
            "application/javascript": [
              "window[\"2837bc84-7c82-11eb-9512-0242ac1c0002\"] = google.colab.output.setActiveOutputArea(window[\"2837032a-7c82-11eb-9512-0242ac1c0002\"]);\n",
              "//# sourceURL=js_50a4b33441"
            ],
            "text/plain": [
              "<IPython.core.display.Javascript object>"
            ]
          },
          "metadata": {
            "tags": [
              "id40-0-5",
              "outputarea_id40"
            ]
          }
        },
        {
          "output_type": "stream",
          "text": [
            "\n",
            "\n"
          ],
          "name": "stdout"
        },
        {
          "output_type": "display_data",
          "data": {
            "image/png": "[encoded data removed]",
            "text/plain": [
              "<PIL.Image.Image image mode=RGBA size=100x100 at 0x7F3AB8106610>"
            ]
          },
          "metadata": {
            "tags": [
              "id40-0-5",
              "outputarea_id40",
              "user_output"
            ]
          }
        },
        {
          "output_type": "stream",
          "text": [
            "\n",
            "Aug 23-Sep 22\n",
            "\n"
          ],
          "name": "stdout"
        },
        {
          "output_type": "display_data",
          "data": {
            "application/vnd.jupyter.widget-view+json": {
              "model_id": "f87658be220140c393081b3533016377",
              "version_minor": 0,
              "version_major": 2
            },
            "text/plain": [
              "Button(description='Virgo', style=ButtonStyle())"
            ]
          },
          "metadata": {
            "tags": [
              "id40-0-5",
              "outputarea_id40",
              "user_output"
            ]
          }
        },
        {
          "output_type": "display_data",
          "data": {
            "application/javascript": [
              "window[\"283b8e90-7c82-11eb-9512-0242ac1c0002\"] = google.colab.output.setActiveOutputArea(window[\"2836b3a2-7c82-11eb-9512-0242ac1c0002\"]);\n",
              "//# sourceURL=js_a7fde14036"
            ],
            "text/plain": [
              "<IPython.core.display.Javascript object>"
            ]
          },
          "metadata": {
            "tags": [
              "id40-0-5",
              "outputarea_id40"
            ]
          }
        },
        {
          "output_type": "display_data",
          "data": {
            "application/javascript": [
              "window[\"283ce4a2-7c82-11eb-9512-0242ac1c0002\"] = google.colab.output.getActiveOutputArea();\n",
              "//# sourceURL=js_592163073d"
            ],
            "text/plain": [
              "<IPython.core.display.Javascript object>"
            ]
          },
          "metadata": {
            "tags": [
              "id40-0-0",
              "outputarea_id40"
            ]
          }
        },
        {
          "output_type": "display_data",
          "data": {
            "application/javascript": [
              "window[\"283d2214-7c82-11eb-9512-0242ac1c0002\"] = document.querySelector(\"#id40-0-0\");\n",
              "//# sourceURL=js_ae56ba062a"
            ],
            "text/plain": [
              "<IPython.core.display.Javascript object>"
            ]
          },
          "metadata": {
            "tags": [
              "id40-0-0",
              "outputarea_id40"
            ]
          }
        },
        {
          "output_type": "display_data",
          "data": {
            "application/javascript": [
              "window[\"283d7386-7c82-11eb-9512-0242ac1c0002\"] = google.colab.output.setActiveOutputArea(window[\"283d2214-7c82-11eb-9512-0242ac1c0002\"]);\n",
              "//# sourceURL=js_f768236908"
            ],
            "text/plain": [
              "<IPython.core.display.Javascript object>"
            ]
          },
          "metadata": {
            "tags": [
              "id40-0-0",
              "outputarea_id40"
            ]
          }
        },
        {
          "output_type": "stream",
          "text": [
            "\n",
            "\n"
          ],
          "name": "stdout"
        },
        {
          "output_type": "display_data",
          "data": {
            "image/png": "[encoded data removed]",
            "text/plain": [
              "<PIL.Image.Image image mode=RGBA size=100x100 at 0x7F3AB817EED0>"
            ]
          },
          "metadata": {
            "tags": [
              "id40-0-0",
              "outputarea_id40",
              "user_output"
            ]
          }
        },
        {
          "output_type": "stream",
          "text": [
            "\n",
            "Sep 23-Oct 22\n",
            "\n"
          ],
          "name": "stdout"
        },
        {
          "output_type": "display_data",
          "data": {
            "application/vnd.jupyter.widget-view+json": {
              "model_id": "100da9ea304a456fbb060d39a85e872e",
              "version_minor": 0,
              "version_major": 2
            },
            "text/plain": [
              "Button(description='Libra', style=ButtonStyle())"
            ]
          },
          "metadata": {
            "tags": [
              "id40-0-0",
              "outputarea_id40",
              "user_output"
            ]
          }
        },
        {
          "output_type": "display_data",
          "data": {
            "application/javascript": [
              "window[\"284178d2-7c82-11eb-9512-0242ac1c0002\"] = google.colab.output.setActiveOutputArea(window[\"283ce4a2-7c82-11eb-9512-0242ac1c0002\"]);\n",
              "//# sourceURL=js_3e06bbf999"
            ],
            "text/plain": [
              "<IPython.core.display.Javascript object>"
            ]
          },
          "metadata": {
            "tags": [
              "id40-0-0",
              "outputarea_id40"
            ]
          }
        },
        {
          "output_type": "display_data",
          "data": {
            "application/javascript": [
              "window[\"2842cdc2-7c82-11eb-9512-0242ac1c0002\"] = google.colab.output.getActiveOutputArea();\n",
              "//# sourceURL=js_04c11e4920"
            ],
            "text/plain": [
              "<IPython.core.display.Javascript object>"
            ]
          },
          "metadata": {
            "tags": [
              "id40-0-1",
              "outputarea_id40"
            ]
          }
        },
        {
          "output_type": "display_data",
          "data": {
            "application/javascript": [
              "window[\"28430ca6-7c82-11eb-9512-0242ac1c0002\"] = document.querySelector(\"#id40-0-1\");\n",
              "//# sourceURL=js_f62a81ce90"
            ],
            "text/plain": [
              "<IPython.core.display.Javascript object>"
            ]
          },
          "metadata": {
            "tags": [
              "id40-0-1",
              "outputarea_id40"
            ]
          }
        },
        {
          "output_type": "display_data",
          "data": {
            "application/javascript": [
              "window[\"2843478e-7c82-11eb-9512-0242ac1c0002\"] = google.colab.output.setActiveOutputArea(window[\"28430ca6-7c82-11eb-9512-0242ac1c0002\"]);\n",
              "//# sourceURL=js_b5ef11f895"
            ],
            "text/plain": [
              "<IPython.core.display.Javascript object>"
            ]
          },
          "metadata": {
            "tags": [
              "id40-0-1",
              "outputarea_id40"
            ]
          }
        },
        {
          "output_type": "stream",
          "text": [
            "\n",
            "\n"
          ],
          "name": "stdout"
        },
        {
          "output_type": "display_data",
          "data": {
            "image/png": "[encoded data removed]",
            "text/plain": [
              "<PIL.Image.Image image mode=RGBA size=100x100 at 0x7F3AB817ED90>"
            ]
          },
          "metadata": {
            "tags": [
              "id40-0-1",
              "outputarea_id40",
              "user_output"
            ]
          }
        },
        {
          "output_type": "stream",
          "text": [
            "\n",
            "Oct 23-Nov 22\n",
            "\n"
          ],
          "name": "stdout"
        },
        {
          "output_type": "display_data",
          "data": {
            "application/vnd.jupyter.widget-view+json": {
              "model_id": "397cf95222ff44c0ba6df197ed7e7742",
              "version_minor": 0,
              "version_major": 2
            },
            "text/plain": [
              "Button(description='Scorpio', style=ButtonStyle())"
            ]
          },
          "metadata": {
            "tags": [
              "id40-0-1",
              "outputarea_id40",
              "user_output"
            ]
          }
        },
        {
          "output_type": "display_data",
          "data": {
            "application/javascript": [
              "window[\"2848114c-7c82-11eb-9512-0242ac1c0002\"] = google.colab.output.setActiveOutputArea(window[\"2842cdc2-7c82-11eb-9512-0242ac1c0002\"]);\n",
              "//# sourceURL=js_628a527750"
            ],
            "text/plain": [
              "<IPython.core.display.Javascript object>"
            ]
          },
          "metadata": {
            "tags": [
              "id40-0-1",
              "outputarea_id40"
            ]
          }
        },
        {
          "output_type": "display_data",
          "data": {
            "application/javascript": [
              "window[\"28499c1a-7c82-11eb-9512-0242ac1c0002\"] = google.colab.output.getActiveOutputArea();\n",
              "//# sourceURL=js_dbb37dfd93"
            ],
            "text/plain": [
              "<IPython.core.display.Javascript object>"
            ]
          },
          "metadata": {
            "tags": [
              "id40-0-2",
              "outputarea_id40"
            ]
          }
        },
        {
          "output_type": "display_data",
          "data": {
            "application/javascript": [
              "window[\"2849d9d2-7c82-11eb-9512-0242ac1c0002\"] = document.querySelector(\"#id40-0-2\");\n",
              "//# sourceURL=js_6ea9b588fb"
            ],
            "text/plain": [
              "<IPython.core.display.Javascript object>"
            ]
          },
          "metadata": {
            "tags": [
              "id40-0-2",
              "outputarea_id40"
            ]
          }
        },
        {
          "output_type": "display_data",
          "data": {
            "application/javascript": [
              "window[\"284a2d10-7c82-11eb-9512-0242ac1c0002\"] = google.colab.output.setActiveOutputArea(window[\"2849d9d2-7c82-11eb-9512-0242ac1c0002\"]);\n",
              "//# sourceURL=js_da4b731498"
            ],
            "text/plain": [
              "<IPython.core.display.Javascript object>"
            ]
          },
          "metadata": {
            "tags": [
              "id40-0-2",
              "outputarea_id40"
            ]
          }
        },
        {
          "output_type": "stream",
          "text": [
            "\n",
            "\n"
          ],
          "name": "stdout"
        },
        {
          "output_type": "display_data",
          "data": {
            "image/png": "[encoded data removed]",
            "text/plain": [
              "<PIL.Image.Image image mode=RGBA size=100x100 at 0x7F3AB817EC90>"
            ]
          },
          "metadata": {
            "tags": [
              "id40-0-2",
              "outputarea_id40",
              "user_output"
            ]
          }
        },
        {
          "output_type": "stream",
          "text": [
            "\n",
            "Nov 23-Dec 21\n",
            "\n"
          ],
          "name": "stdout"
        },
        {
          "output_type": "display_data",
          "data": {
            "application/vnd.jupyter.widget-view+json": {
              "model_id": "2a2205a6f0d94d67980df16e22487ca5",
              "version_minor": 0,
              "version_major": 2
            },
            "text/plain": [
              "Button(description='Sagittarius', style=ButtonStyle())"
            ]
          },
          "metadata": {
            "tags": [
              "id40-0-2",
              "outputarea_id40",
              "user_output"
            ]
          }
        },
        {
          "output_type": "display_data",
          "data": {
            "application/javascript": [
              "window[\"284dc63c-7c82-11eb-9512-0242ac1c0002\"] = google.colab.output.setActiveOutputArea(window[\"28499c1a-7c82-11eb-9512-0242ac1c0002\"]);\n",
              "//# sourceURL=js_f307769505"
            ],
            "text/plain": [
              "<IPython.core.display.Javascript object>"
            ]
          },
          "metadata": {
            "tags": [
              "id40-0-2",
              "outputarea_id40"
            ]
          }
        },
        {
          "output_type": "display_data",
          "data": {
            "application/javascript": [
              "window[\"284f2cd4-7c82-11eb-9512-0242ac1c0002\"] = google.colab.output.getActiveOutputArea();\n",
              "//# sourceURL=js_1c9d135eb9"
            ],
            "text/plain": [
              "<IPython.core.display.Javascript object>"
            ]
          },
          "metadata": {
            "tags": [
              "id40-0-3",
              "outputarea_id40"
            ]
          }
        },
        {
          "output_type": "display_data",
          "data": {
            "application/javascript": [
              "window[\"284f6cb2-7c82-11eb-9512-0242ac1c0002\"] = document.querySelector(\"#id40-0-3\");\n",
              "//# sourceURL=js_6f82af2821"
            ],
            "text/plain": [
              "<IPython.core.display.Javascript object>"
            ]
          },
          "metadata": {
            "tags": [
              "id40-0-3",
              "outputarea_id40"
            ]
          }
        },
        {
          "output_type": "display_data",
          "data": {
            "application/javascript": [
              "window[\"284fc28e-7c82-11eb-9512-0242ac1c0002\"] = google.colab.output.setActiveOutputArea(window[\"284f6cb2-7c82-11eb-9512-0242ac1c0002\"]);\n",
              "//# sourceURL=js_139e056c79"
            ],
            "text/plain": [
              "<IPython.core.display.Javascript object>"
            ]
          },
          "metadata": {
            "tags": [
              "id40-0-3",
              "outputarea_id40"
            ]
          }
        },
        {
          "output_type": "stream",
          "text": [
            "\n",
            "\n"
          ],
          "name": "stdout"
        },
        {
          "output_type": "display_data",
          "data": {
            "image/png": "[encoded data removed]",
            "text/plain": [
              "<PIL.Image.Image image mode=RGBA size=100x100 at 0x7F3AB817EAD0>"
            ]
          },
          "metadata": {
            "tags": [
              "id40-0-3",
              "outputarea_id40",
              "user_output"
            ]
          }
        },
        {
          "output_type": "stream",
          "text": [
            "\n",
            "Dec 22-Jan 19\n",
            "\n"
          ],
          "name": "stdout"
        },
        {
          "output_type": "display_data",
          "data": {
            "application/vnd.jupyter.widget-view+json": {
              "model_id": "1431ecb594344e01ac28b083d0385796",
              "version_minor": 0,
              "version_major": 2
            },
            "text/plain": [
              "Button(description='Capricorn', style=ButtonStyle())"
            ]
          },
          "metadata": {
            "tags": [
              "id40-0-3",
              "outputarea_id40",
              "user_output"
            ]
          }
        },
        {
          "output_type": "display_data",
          "data": {
            "application/javascript": [
              "window[\"285413c0-7c82-11eb-9512-0242ac1c0002\"] = google.colab.output.setActiveOutputArea(window[\"284f2cd4-7c82-11eb-9512-0242ac1c0002\"]);\n",
              "//# sourceURL=js_c95fc9bd32"
            ],
            "text/plain": [
              "<IPython.core.display.Javascript object>"
            ]
          },
          "metadata": {
            "tags": [
              "id40-0-3",
              "outputarea_id40"
            ]
          }
        },
        {
          "output_type": "display_data",
          "data": {
            "application/javascript": [
              "window[\"28557a80-7c82-11eb-9512-0242ac1c0002\"] = google.colab.output.getActiveOutputArea();\n",
              "//# sourceURL=js_36c3d697b4"
            ],
            "text/plain": [
              "<IPython.core.display.Javascript object>"
            ]
          },
          "metadata": {
            "tags": [
              "id40-0-4",
              "outputarea_id40"
            ]
          }
        },
        {
          "output_type": "display_data",
          "data": {
            "application/javascript": [
              "window[\"2855b810-7c82-11eb-9512-0242ac1c0002\"] = document.querySelector(\"#id40-0-4\");\n",
              "//# sourceURL=js_7ca964a5d9"
            ],
            "text/plain": [
              "<IPython.core.display.Javascript object>"
            ]
          },
          "metadata": {
            "tags": [
              "id40-0-4",
              "outputarea_id40"
            ]
          }
        },
        {
          "output_type": "display_data",
          "data": {
            "application/javascript": [
              "window[\"2855f46a-7c82-11eb-9512-0242ac1c0002\"] = google.colab.output.setActiveOutputArea(window[\"2855b810-7c82-11eb-9512-0242ac1c0002\"]);\n",
              "//# sourceURL=js_4f5823d2f4"
            ],
            "text/plain": [
              "<IPython.core.display.Javascript object>"
            ]
          },
          "metadata": {
            "tags": [
              "id40-0-4",
              "outputarea_id40"
            ]
          }
        },
        {
          "output_type": "stream",
          "text": [
            "\n",
            "\n"
          ],
          "name": "stdout"
        },
        {
          "output_type": "display_data",
          "data": {
            "image/png": "[encoded data removed]",
            "text/plain": [
              "<PIL.Image.Image image mode=RGBA size=100x100 at 0x7F3AB817EB90>"
            ]
          },
          "metadata": {
            "tags": [
              "id40-0-4",
              "outputarea_id40",
              "user_output"
            ]
          }
        },
        {
          "output_type": "stream",
          "text": [
            "\n",
            "Jan 20-Feb 18\n",
            "\n"
          ],
          "name": "stdout"
        },
        {
          "output_type": "display_data",
          "data": {
            "application/vnd.jupyter.widget-view+json": {
              "model_id": "6f337d2af698427daea7a5139167cbf1",
              "version_minor": 0,
              "version_major": 2
            },
            "text/plain": [
              "Button(description='Aquarius', style=ButtonStyle())"
            ]
          },
          "metadata": {
            "tags": [
              "id40-0-4",
              "outputarea_id40",
              "user_output"
            ]
          }
        },
        {
          "output_type": "display_data",
          "data": {
            "application/javascript": [
              "window[\"28597ebe-7c82-11eb-9512-0242ac1c0002\"] = google.colab.output.setActiveOutputArea(window[\"28557a80-7c82-11eb-9512-0242ac1c0002\"]);\n",
              "//# sourceURL=js_8b30e0e6f5"
            ],
            "text/plain": [
              "<IPython.core.display.Javascript object>"
            ]
          },
          "metadata": {
            "tags": [
              "id40-0-4",
              "outputarea_id40"
            ]
          }
        },
        {
          "output_type": "display_data",
          "data": {
            "application/javascript": [
              "window[\"285ac850-7c82-11eb-9512-0242ac1c0002\"] = google.colab.output.getActiveOutputArea();\n",
              "//# sourceURL=js_937d3af2e4"
            ],
            "text/plain": [
              "<IPython.core.display.Javascript object>"
            ]
          },
          "metadata": {
            "tags": [
              "id40-0-5",
              "outputarea_id40"
            ]
          }
        },
        {
          "output_type": "display_data",
          "data": {
            "application/javascript": [
              "window[\"285b063a-7c82-11eb-9512-0242ac1c0002\"] = document.querySelector(\"#id40-0-5\");\n",
              "//# sourceURL=js_011734e229"
            ],
            "text/plain": [
              "<IPython.core.display.Javascript object>"
            ]
          },
          "metadata": {
            "tags": [
              "id40-0-5",
              "outputarea_id40"
            ]
          }
        },
        {
          "output_type": "display_data",
          "data": {
            "application/javascript": [
              "window[\"285b3e52-7c82-11eb-9512-0242ac1c0002\"] = google.colab.output.setActiveOutputArea(window[\"285b063a-7c82-11eb-9512-0242ac1c0002\"]);\n",
              "//# sourceURL=js_8524e8a72b"
            ],
            "text/plain": [
              "<IPython.core.display.Javascript object>"
            ]
          },
          "metadata": {
            "tags": [
              "id40-0-5",
              "outputarea_id40"
            ]
          }
        },
        {
          "output_type": "stream",
          "text": [
            "\n",
            "\n"
          ],
          "name": "stdout"
        },
        {
          "output_type": "display_data",
          "data": {
            "image/png": "[encoded data removed]",
            "text/plain": [
              "<PIL.Image.Image image mode=RGBA size=100x100 at 0x7F3AB817E650>"
            ]
          },
          "metadata": {
            "tags": [
              "id40-0-5",
              "outputarea_id40",
              "user_output"
            ]
          }
        },
        {
          "output_type": "stream",
          "text": [
            "\n",
            "Feb 19-Mar 20\n",
            "\n"
          ],
          "name": "stdout"
        },
        {
          "output_type": "display_data",
          "data": {
            "application/vnd.jupyter.widget-view+json": {
              "model_id": "ad72314f1f0b4fa3a0e3fdff602f1c5d",
              "version_minor": 0,
              "version_major": 2
            },
            "text/plain": [
              "Button(description='Pisces', style=ButtonStyle())"
            ]
          },
          "metadata": {
            "tags": [
              "id40-0-5",
              "outputarea_id40",
              "user_output"
            ]
          }
        },
        {
          "output_type": "display_data",
          "data": {
            "application/javascript": [
              "window[\"285eeeb2-7c82-11eb-9512-0242ac1c0002\"] = google.colab.output.setActiveOutputArea(window[\"285ac850-7c82-11eb-9512-0242ac1c0002\"]);\n",
              "//# sourceURL=js_05528d8e73"
            ],
            "text/plain": [
              "<IPython.core.display.Javascript object>"
            ]
          },
          "metadata": {
            "tags": [
              "id40-0-5",
              "outputarea_id40"
            ]
          }
        },
        {
          "output_type": "stream",
          "text": [
            "\n",
            "Select your Star Sign by clicking the button\n",
            "\n"
          ],
          "name": "stdout"
        },
        {
          "output_type": "display_data",
          "data": {
            "application/vnd.jupyter.widget-view+json": {
              "model_id": "2ae83d5bfef642ca9bbc57eabb7f167e",
              "version_minor": 0,
              "version_major": 2
            },
            "text/plain": [
              "Output()"
            ]
          },
          "metadata": {
            "tags": []
          }
        }
      ]
    }
  ]
}